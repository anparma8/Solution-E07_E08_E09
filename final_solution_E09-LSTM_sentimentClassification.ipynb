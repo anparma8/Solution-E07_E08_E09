{
 "cells": [
  {
   "cell_type": "code",
   "execution_count": null,
   "metadata": {
    "collapsed": true
   },
   "outputs": [],
   "source": [
    "#Angela María Arias Rojas 201728551\n",
    "#Raúl Andrés Pardo Moreno 20172736"
   ]
  },
  {
   "cell_type": "markdown",
   "metadata": {},
   "source": [
    "# Exercise 09\n",
    "\n",
    "## Sequence Classification using LSTM\n",
    "\n",
    "Sequence classification is a predictive modeling problem where you have some sequence of inputs over space or time and the task is to predict a category for the sequence.\n",
    "\n",
    "What makes this problem difficult is that the sequences can vary in length, be comprised of a very large vocabulary of input symbols and may require the model to learn the long-term context or dependencies between symbols in the input sequence."
   ]
  },
  {
   "cell_type": "markdown",
   "metadata": {},
   "source": [
    "[The Large Movie Review Dataset](http://ai.stanford.edu/~amaas/data/sentiment/) (often referred to as the IMDB dataset) contains 25,000 highly-polar movie reviews (good or bad) for training and the same amount again for testing. The problem is to determine whether a given movie review has a positive or negative sentiment."
   ]
  },
  {
   "cell_type": "code",
   "execution_count": 2,
   "metadata": {},
   "outputs": [
    {
     "name": "stderr",
     "output_type": "stream",
     "text": [
      "C:\\Users\\harol\\Anaconda3\\lib\\site-packages\\h5py\\__init__.py:34: FutureWarning: Conversion of the second argument of issubdtype from `float` to `np.floating` is deprecated. In future, it will be treated as `np.float64 == np.dtype(float).type`.\n",
      "  from ._conv import register_converters as _register_converters\n",
      "Using TensorFlow backend.\n"
     ]
    }
   ],
   "source": [
    "import numpy as np\n",
    "from keras.datasets import imdb\n",
    "from keras.models import Sequential\n",
    "from keras.layers import Dense\n",
    "from keras.layers import LSTM\n",
    "from keras.layers.embeddings import Embedding\n",
    "from keras.preprocessing import sequence\n",
    "from keras.callbacks import History\n",
    "np.random.seed(7)"
   ]
  },
  {
   "cell_type": "code",
   "execution_count": 3,
   "metadata": {
    "collapsed": true
   },
   "outputs": [],
   "source": [
    "from livelossplot import PlotLossesKeras\n",
    "%matplotlib inline"
   ]
  },
  {
   "cell_type": "code",
   "execution_count": 4,
   "metadata": {
    "collapsed": true
   },
   "outputs": [],
   "source": [
    "# load the dataset but only keep the top n words, zero the rest\n",
    "top_words = 5000\n",
    "index_from = 3\n",
    "(X_train, y_train), (X_test, y_test) = imdb.load_data(num_words=top_words, index_from=index_from)"
   ]
  },
  {
   "cell_type": "code",
   "execution_count": 5,
   "metadata": {},
   "outputs": [
    {
     "data": {
      "text/plain": [
       "1"
      ]
     },
     "execution_count": 5,
     "metadata": {},
     "output_type": "execute_result"
    }
   ],
   "source": [
    "y_train[0]"
   ]
  },
  {
   "cell_type": "code",
   "execution_count": 6,
   "metadata": {},
   "outputs": [
    {
     "data": {
      "text/plain": [
       "(1, 4999)"
      ]
     },
     "execution_count": 6,
     "metadata": {},
     "output_type": "execute_result"
    }
   ],
   "source": [
    "np.min([np.min(x) for x in X_train]), np.max([np.max(x) for x in X_train])"
   ]
  },
  {
   "cell_type": "markdown",
   "metadata": {},
   "source": [
    "The words have been replaced by integers that indicate the ordered frequency of each word in the dataset. The sentences in each review are therefore comprised of a sequence of integers."
   ]
  },
  {
   "cell_type": "code",
   "execution_count": 7,
   "metadata": {},
   "outputs": [
    {
     "data": {
      "text/plain": [
       "(25000,)"
      ]
     },
     "execution_count": 7,
     "metadata": {},
     "output_type": "execute_result"
    }
   ],
   "source": [
    "X_train.shape"
   ]
  },
  {
   "cell_type": "code",
   "execution_count": 8,
   "metadata": {},
   "outputs": [
    {
     "name": "stdout",
     "output_type": "stream",
     "text": [
      "[1, 14, 22, 16, 43, 530, 973, 1622, 1385, 65, 458, 4468, 66, 3941, 4, 173, 36, 256, 5, 25, 100, 43, 838, 112, 50, 670, 2, 9, 35, 480, 284, 5, 150, 4, 172, 112, 167, 2, 336, 385, 39, 4, 172, 4536, 1111, 17, 546, 38, 13, 447, 4, 192, 50, 16, 6, 147, 2025, 19, 14, 22, 4, 1920, 4613, 469, 4, 22, 71, 87, 12, 16, 43, 530, 38, 76, 15, 13, 1247, 4, 22, 17, 515, 17, 12, 16, 626, 18, 2, 5, 62, 386, 12, 8, 316, 8, 106, 5, 4, 2223, 2, 16, 480, 66, 3785, 33, 4, 130, 12, 16, 38, 619, 5, 25, 124, 51, 36, 135, 48, 25, 1415, 33, 6, 22, 12, 215, 28, 77, 52, 5, 14, 407, 16, 82, 2, 8, 4, 107, 117, 2, 15, 256, 4, 2, 7, 3766, 5, 723, 36, 71, 43, 530, 476, 26, 400, 317, 46, 7, 4, 2, 1029, 13, 104, 88, 4, 381, 15, 297, 98, 32, 2071, 56, 26, 141, 6, 194, 2, 18, 4, 226, 22, 21, 134, 476, 26, 480, 5, 144, 30, 2, 18, 51, 36, 28, 224, 92, 25, 104, 4, 226, 65, 16, 38, 1334, 88, 12, 16, 283, 5, 16, 4472, 113, 103, 32, 15, 16, 2, 19, 178, 32]\n"
     ]
    }
   ],
   "source": [
    "print(X_train[0])"
   ]
  },
  {
   "cell_type": "markdown",
   "metadata": {},
   "source": [
    "Next, we need to truncate and pad the input sequences so that they are all the same length for modeling. The model will learn the zero values carry no information so indeed the sequences are not the same length in terms of content, but same length vectors is required to perform the computation in Keras."
   ]
  },
  {
   "cell_type": "code",
   "execution_count": 9,
   "metadata": {
    "collapsed": true
   },
   "outputs": [],
   "source": [
    "# truncate and pad input sequences\n",
    "max_review_length = 500\n",
    "X_train_pad = sequence.pad_sequences(X_train, maxlen=max_review_length)\n",
    "X_test_pad = sequence.pad_sequences(X_test, maxlen=max_review_length)"
   ]
  },
  {
   "cell_type": "code",
   "execution_count": 10,
   "metadata": {},
   "outputs": [
    {
     "data": {
      "text/plain": [
       "(25000, 500)"
      ]
     },
     "execution_count": 10,
     "metadata": {},
     "output_type": "execute_result"
    }
   ],
   "source": [
    "X_train_pad.shape"
   ]
  },
  {
   "cell_type": "markdown",
   "metadata": {},
   "source": [
    "### Word Embedding\n",
    "\n",
    "We will map each movie review into a real vector domain, a popular technique when working with text called word embedding. This is a technique where words are encoded as real-valued vectors in a high dimensional space, where the similarity between words in terms of meaning translates to closeness in the vector space.\n",
    "\n",
    "Keras provides a convenient way to convert positive integer representations of words into a word embedding by an Embedding layer.\n",
    "\n",
    "We will map each word onto a 32 length real valued vector. We will also limit the total number of words that we are interested in modeling to the 5000 most frequent words, and zero out the rest. Finally, the sequence length (number of words) in each review varies, so we will constrain each review to be 500 words, truncating long reviews and pad the shorter reviews with zero values.\n",
    "\n",
    "Now that we have defined our problem and how the data will be prepared and modeled, we are ready to develop an LSTM model to classify the sentiment of movie reviews."
   ]
  },
  {
   "cell_type": "markdown",
   "metadata": {},
   "source": [
    "# Exercise 09.1\n",
    "\n",
    "Train a Deep Neural Network with the following architecture:\n",
    "\n",
    "- Input = pad_sequences (input_length=max_review_length)\n",
    "- Embedding(top_words, 32, input_length)\n",
    "- LSTM(100)\n",
    "- Dense(1, sigmoid)\n",
    "\n",
    "Optimized using adam using as loss binary_crossentropy\n",
    "\n",
    "Hints: \n",
    "- test with two iterations then try more. \n",
    "- learning can be ajusted\n",
    "\n",
    "Evaluate the performance using the testing set (aprox 87% with 10 epochs)"
   ]
  },
  {
   "cell_type": "code",
   "execution_count": 81,
   "metadata": {},
   "outputs": [
    {
     "name": "stdout",
     "output_type": "stream",
     "text": [
      "_________________________________________________________________\n",
      "Layer (type)                 Output Shape              Param #   \n",
      "=================================================================\n",
      "embedding_3 (Embedding)      (None, 500, 32)           160000    \n",
      "_________________________________________________________________\n",
      "lstm_3 (LSTM)                (None, 100)               53200     \n",
      "_________________________________________________________________\n",
      "dropout_3 (Dropout)          (None, 100)               0         \n",
      "_________________________________________________________________\n",
      "dense_3 (Dense)              (None, 1)                 101       \n",
      "=================================================================\n",
      "Total params: 213,301\n",
      "Trainable params: 213,301\n",
      "Non-trainable params: 0\n",
      "_________________________________________________________________\n"
     ]
    }
   ],
   "source": [
    "from keras.layers.core import Dense, Dropout\n",
    "\n",
    "model = Sequential()\n",
    "model.add(Embedding(top_words, 32, input_length=500))\n",
    "model.add(LSTM(100))\n",
    "model.add(Dropout(0.5))\n",
    "model.add(Dense(1, activation='sigmoid'))\n",
    "model.compile(loss='binary_crossentropy', optimizer='adam', metrics=['accuracy'])\n",
    "\n",
    "model.summary()        "
   ]
  },
  {
   "cell_type": "code",
   "execution_count": 82,
   "metadata": {},
   "outputs": [
    {
     "name": "stdout",
     "output_type": "stream",
     "text": [
      "Train on 25000 samples, validate on 25000 samples\n",
      "Epoch 1/2\n",
      "25000/25000 [==============================] - 319s 13ms/step - loss: 0.4710 - acc: 0.7736 - val_loss: 0.3616 - val_acc: 0.8507\n",
      "Epoch 2/2\n",
      "25000/25000 [==============================] - 368s 15ms/step - loss: 0.3009 - acc: 0.8802 - val_loss: 0.3201 - val_acc: 0.8641\n"
     ]
    },
    {
     "data": {
      "text/plain": [
       "<keras.callbacks.History at 0x1cf0ea384e0>"
      ]
     },
     "execution_count": 82,
     "metadata": {},
     "output_type": "execute_result"
    }
   ],
   "source": [
    "model.fit(X_train_pad, y_train, validation_data=[X_test_pad, y_test], \n",
    "          batch_size=32, epochs=2, verbose=1)\n",
    "          #callbacks=[PlotLossesKeras()])"
   ]
  },
  {
   "cell_type": "code",
   "execution_count": 83,
   "metadata": {},
   "outputs": [
    {
     "name": "stdout",
     "output_type": "stream",
     "text": [
      "0.86408\n"
     ]
    }
   ],
   "source": [
    "y_pred = model.predict_classes(X_test_pad)[:,0]\n",
    "\n",
    "print((y_pred == y_test).mean())"
   ]
  },
  {
   "cell_type": "markdown",
   "metadata": {},
   "source": [
    "# Exercise 09.2\n",
    "\n",
    "Predict the sentiment of the following reviews"
   ]
  },
  {
   "cell_type": "code",
   "execution_count": 84,
   "metadata": {
    "collapsed": true
   },
   "outputs": [],
   "source": [
    "reviews = [\"I was fortunate enough to see this movie on pre-release last night and, though I wasn't expecting to, actually really enjoyed the movie for the most part. The rescues and sea effects were amazing to watch and definitely provided edge of the seat tense moments, probably all the more so knowing that there are guys who do this for a living. The weaker parts of the movie revolve largely around using stereotypical set scenes. I'm not going to spoil the movie but this really follows along the lines of An Officer and a Gentleman and those moments give it a little bit of a cheesy aftertaste.<br /><br />Like I said over all this movie is pretty good and worth checking out as long as you can get past the clichés.\",\n",
    "           '\"The Dresser\" is perhaps the most refined of backstage films. The film is brimming with wit and spirit, for the most part provided by the \"energetic\" character of Norman (Tom Courtenay). Although his character is clearly gay, and certainly has an attraction for the lead performer (Albert Finney) that he assists, the film never dwells on it or makes it more than it is.<br /><br />The gritty style of Peter Yates that worked so well in \"Bullitt\" is again on display, and gives the film a sense of realism and coherence. This is much appreciated in a story that could so easily have become tedious. In the end, \"The Dresser\" will bore many people silly, but it will truly be a delight to those who love British cinema.<br /><br />7.7 out of 10',\n",
    "           \"So real and surreal, all in one. I remember feeling like Tessa. Heck, I remember being Tessa. This was a beautiful vignette of a relationship ending. I especially liked the protesters tangent. It is nice to see symbolism in a movie without being smacked over the head with it. If you get the chance to see this, take it. It is well worth the 30 minutes.\",\n",
    "           \"This is a pale imitation of 'Officer and a Gentleman.' There is NO chemistry between Kutcher and the unknown woman who plays his love interest. The dialog is wooden, the situations hackneyed. It's too long and the climax is anti-climactic(!). I love the USCG, its men and women are fearless and tough. The action scenes are awesome, but this movie doesn't do much for recruiting, I fear. The script is formulaic, but confusing. Kutcher's character is trying to redeem himself for an accident that wasn't his fault? Costner's is raging against the dying of the light, but why? His 'conflict' with his wife is about as deep as a mud puddle. I saw this sneak preview for free and certainly felt I got my money's worth.\",\n",
    "           \"I was at Wrestlemania VI in Toronto as a 10 year old, and the event I saw then was pretty different from what I saw on the Wrestlemania Collection DVD I just watched. I don't understand how the wwE doesn't have the rights to some of the old music, since most of those songs were created by the WWF they shouldn't have to worry about the licensing and royalty fees that prevent shows like SNL from releasing season sets. Its pretty stupid to whine about, but for me hearing Demolition come out to their theme music at a Wrestlemania in person was a memory that I never forgot, and it didn't exist on this DVD. What is the point of them even owning the rights to this huge library of video if they have to edit it so drastically to use it?\",\n",
    "           \"Wow! What a movie if you want to blow your budget on the title and have it look real bad ask the guys that made this movie on how to do that. They could have spent the money on a good rewrite or something else. Or they could have spent it on beer when they made this movie at least it would have come out better.\"\n",
    "          ]"
   ]
  },
  {
   "cell_type": "markdown",
   "metadata": {},
   "source": [
    "Reviews must be preprocessed"
   ]
  },
  {
   "cell_type": "code",
   "execution_count": 85,
   "metadata": {
    "collapsed": true
   },
   "outputs": [],
   "source": [
    "from keras.datasets.imdb import get_word_index\n",
    "\n",
    "vocab = get_word_index()\n",
    "\n",
    "vocab = {k:(v+index_from) for k,v in vocab.items()}\n",
    "vocab[\"<PAD>\"] = 0\n",
    "vocab[\"<START>\"] = 1\n",
    "vocab[\"<UNK>\"] = 2"
   ]
  },
  {
   "cell_type": "code",
   "execution_count": 86,
   "metadata": {
    "scrolled": true
   },
   "outputs": [
    {
     "data": {
      "text/plain": [
       "{'fawn': 34704,\n",
       " 'hanging': 2348,\n",
       " 'nunnery': 52010,\n",
       " 'sonja': 16819,\n",
       " 'spiders': 16118,\n",
       " 'trawling': 52011,\n",
       " 'tsukino': 52009,\n",
       " 'vani': 63954,\n",
       " 'woods': 1411,\n",
       " 'woody': 2292}"
      ]
     },
     "execution_count": 86,
     "metadata": {},
     "output_type": "execute_result"
    }
   ],
   "source": [
    "{k:vocab[k] for k in list(vocab.keys())[:10]}"
   ]
  },
  {
   "cell_type": "markdown",
   "metadata": {},
   "source": [
    " Lets see how X_train is encoded"
   ]
  },
  {
   "cell_type": "code",
   "execution_count": 87,
   "metadata": {},
   "outputs": [
    {
     "data": {
      "text/plain": [
       "array([   0,    0,    0,    0,    0,    0,    0,    0,    0,    0,    0,\n",
       "          0,    0,    0,    0,    0,    0,    0,    0,    0,    0,    0,\n",
       "          0,    0,    0,    0,    0,    0,    0,    0,    0,    0,    0,\n",
       "          0,    0,    0,    0,    0,    0,    0,    0,    0,    0,    0,\n",
       "          0,    0,    0,    0,    0,    0,    0,    0,    0,    0,    0,\n",
       "          0,    0,    0,    0,    0,    0,    0,    0,    0,    0,    0,\n",
       "          0,    0,    0,    0,    0,    0,    0,    0,    0,    0,    0,\n",
       "          0,    0,    0,    0,    0,    0,    0,    0,    0,    0,    0,\n",
       "          0,    0,    0,    0,    0,    0,    0,    0,    0,    0,    0,\n",
       "          0,    0,    0,    0,    0,    0,    0,    0,    0,    0,    0,\n",
       "          0,    0,    0,    0,    0,    0,    0,    0,    0,    0,    0,\n",
       "          0,    0,    0,    0,    0,    0,    0,    0,    0,    0,    0,\n",
       "          0,    0,    0,    0,    0,    0,    0,    0,    0,    0,    0,\n",
       "          0,    0,    0,    0,    0,    0,    0,    0,    0,    0,    0,\n",
       "          0,    0,    0,    0,    0,    0,    0,    0,    0,    0,    0,\n",
       "          0,    0,    0,    0,    0,    0,    0,    0,    0,    0,    0,\n",
       "          0,    0,    0,    0,    0,    0,    0,    0,    0,    0,    0,\n",
       "          0,    0,    0,    0,    0,    0,    0,    0,    0,    0,    0,\n",
       "          0,    0,    0,    0,    0,    0,    0,    0,    0,    0,    0,\n",
       "          0,    0,    0,    0,    0,    0,    0,    0,    0,    0,    0,\n",
       "          0,    0,    0,    0,    0,    0,    0,    0,    0,    0,    0,\n",
       "          0,    0,    0,    0,    0,    0,    0,    0,    0,    0,    0,\n",
       "          0,    0,    0,    0,    0,    0,    0,    0,    0,    0,    0,\n",
       "          0,    0,    0,    0,    0,    0,    0,    0,    0,    0,    0,\n",
       "          0,    0,    0,    0,    0,    0,    0,    0,    0,    0,    0,\n",
       "          0,    0,    0,    0,    0,    0,    0,    1,   14,   22,   16,\n",
       "         43,  530,  973, 1622, 1385,   65,  458, 4468,   66, 3941,    4,\n",
       "        173,   36,  256,    5,   25,  100,   43,  838,  112,   50,  670,\n",
       "          2,    9,   35,  480,  284,    5,  150,    4,  172,  112,  167,\n",
       "          2,  336,  385,   39,    4,  172, 4536, 1111,   17,  546,   38,\n",
       "         13,  447,    4,  192,   50,   16,    6,  147, 2025,   19,   14,\n",
       "         22,    4, 1920, 4613,  469,    4,   22,   71,   87,   12,   16,\n",
       "         43,  530,   38,   76,   15,   13, 1247,    4,   22,   17,  515,\n",
       "         17,   12,   16,  626,   18,    2,    5,   62,  386,   12,    8,\n",
       "        316,    8,  106,    5,    4, 2223,    2,   16,  480,   66, 3785,\n",
       "         33,    4,  130,   12,   16,   38,  619,    5,   25,  124,   51,\n",
       "         36,  135,   48,   25, 1415,   33,    6,   22,   12,  215,   28,\n",
       "         77,   52,    5,   14,  407,   16,   82,    2,    8,    4,  107,\n",
       "        117,    2,   15,  256,    4,    2,    7, 3766,    5,  723,   36,\n",
       "         71,   43,  530,  476,   26,  400,  317,   46,    7,    4,    2,\n",
       "       1029,   13,  104,   88,    4,  381,   15,  297,   98,   32, 2071,\n",
       "         56,   26,  141,    6,  194,    2,   18,    4,  226,   22,   21,\n",
       "        134,  476,   26,  480,    5,  144,   30,    2,   18,   51,   36,\n",
       "         28,  224,   92,   25,  104,    4,  226,   65,   16,   38, 1334,\n",
       "         88,   12,   16,  283,    5,   16, 4472,  113,  103,   32,   15,\n",
       "         16,    2,   19,  178,   32])"
      ]
     },
     "execution_count": 87,
     "metadata": {},
     "output_type": "execute_result"
    }
   ],
   "source": [
    "X_train_pad[0]"
   ]
  },
  {
   "cell_type": "code",
   "execution_count": 88,
   "metadata": {},
   "outputs": [
    {
     "name": "stdout",
     "output_type": "stream",
     "text": [
      "[1, 14, 22, 16, 43, 530, 973, 1622, 1385, 65, 458, 4468, 66, 3941, 4, 173, 36, 256, 5, 25, 100, 43, 838, 112, 50, 670, 2, 9, 35, 480, 284, 5, 150, 4, 172, 112, 167, 2, 336, 385, 39, 4, 172, 4536, 1111, 17, 546, 38, 13, 447, 4, 192, 50, 16, 6, 147, 2025, 19, 14, 22, 4, 1920, 4613, 469, 4, 22, 71, 87, 12, 16, 43, 530, 38, 76, 15, 13, 1247, 4, 22, 17, 515, 17, 12, 16, 626, 18, 2, 5, 62, 386, 12, 8, 316, 8, 106, 5, 4, 2223, 2, 16, 480, 66, 3785, 33, 4, 130, 12, 16, 38, 619, 5, 25, 124, 51, 36, 135, 48, 25, 1415, 33, 6, 22, 12, 215, 28, 77, 52, 5, 14, 407, 16, 82, 2, 8, 4, 107, 117, 2, 15, 256, 4, 2, 7, 3766, 5, 723, 36, 71, 43, 530, 476, 26, 400, 317, 46, 7, 4, 2, 1029, 13, 104, 88, 4, 381, 15, 297, 98, 32, 2071, 56, 26, 141, 6, 194, 2, 18, 4, 226, 22, 21, 134, 476, 26, 480, 5, 144, 30, 2, 18, 51, 36, 28, 224, 92, 25, 104, 4, 226, 65, 16, 38, 1334, 88, 12, 16, 283, 5, 16, 4472, 113, 103, 32, 15, 16, 2, 19, 178, 32]\n"
     ]
    }
   ],
   "source": [
    "print(X_train[0])"
   ]
  },
  {
   "cell_type": "markdown",
   "metadata": {},
   "source": [
    "Lets get the text"
   ]
  },
  {
   "cell_type": "code",
   "execution_count": 89,
   "metadata": {
    "scrolled": true
   },
   "outputs": [
    {
     "name": "stdout",
     "output_type": "stream",
     "text": [
      "<START> this film was just brilliant casting location scenery story direction everyone's really suited the part they played and you could just imagine being there robert <UNK> is an amazing actor and now the same being director <UNK> father came from the same scottish island as myself so i loved the fact there was a real connection with this film the witty remarks throughout the film were great it was just brilliant so much that i bought the film as soon as it was released for <UNK> and would recommend it to everyone to watch and the fly <UNK> was amazing really cried at the end it was so sad and you know what they say if you cry at a film it must have been good and this definitely was also <UNK> to the two little <UNK> that played the <UNK> of norman and paul they were just brilliant children are often left out of the <UNK> list i think because the stars that play them all grown up are such a big <UNK> for the whole film but these children are amazing and should be <UNK> for what they have done don't you think the whole story was so lovely because it was true and was someone's life after all that was <UNK> with us all\n"
     ]
    }
   ],
   "source": [
    "id_to_word = {value:key for key,value in vocab.items()}\n",
    "print(' '.join(id_to_word[id] for id in X_train[0] ))"
   ]
  },
  {
   "cell_type": "markdown",
   "metadata": {},
   "source": [
    "Compared with the original review in lowercase:\n",
    "\n",
    "\"this film was just brilliant casting location scenery story direction everyone's really suited the part they played and you could just imagine being there robert redford's is an amazing actor and now the same being director norman's father came from the same scottish island as myself so i loved the fact there was a real connection with this film the witty remarks throughout the film were great it was just brilliant so much that i bought the film as soon as it was released for retail and would recommend it to everyone to watch and the fly fishing was amazing really cried at the end it was so sad and you know what they say if you cry at a film it must have been good and this definitely was also congratulations to the two little boy's that played the part's of norman and paul they were just brilliant children are often left out of the praising list i think because the stars that play them all grown up are such a big profile for the whole film but these children are amazing and should be praised for what they have done don't you think the whole story was so lovely because it was true and was someone's life after all that was shared with us all\""
   ]
  },
  {
   "cell_type": "code",
   "execution_count": 90,
   "metadata": {
    "collapsed": true
   },
   "outputs": [],
   "source": [
    "#Solución del punto\n",
    "X= reviews"
   ]
  },
  {
   "cell_type": "code",
   "execution_count": 91,
   "metadata": {
    "scrolled": true
   },
   "outputs": [
    {
     "data": {
      "text/plain": [
       "6"
      ]
     },
     "execution_count": 91,
     "metadata": {},
     "output_type": "execute_result"
    }
   ],
   "source": [
    "len(X)"
   ]
  },
  {
   "cell_type": "code",
   "execution_count": 92,
   "metadata": {
    "collapsed": true
   },
   "outputs": [],
   "source": [
    "# Max len\n",
    "max_url_len = 500\n",
    "X = [x[:max_url_len] for x in X]\n",
    "# Aqui convertimos el texto en numeros\n",
    "X = [[vocab[x1] for x1 in x if x1 in vocab.keys()] for x in X]"
   ]
  },
  {
   "cell_type": "code",
   "execution_count": 93,
   "metadata": {
    "scrolled": true
   },
   "outputs": [
    {
     "name": "stdout",
     "output_type": "stream",
     "text": [
      "[[1992, 6, 590, 1209, 1604, 1479, 830, 1206, 3363, 6, 830, 963, 963, 3363, 1604, 1206, 1331, 2023, 830, 1604, 590, 963, 963, 830, 2023, 13, 590, 1983, 1604, 1964, 13, 963, 1604, 3363, 1657, 1479, 963, 1479, 963, 2014, 963, 6, 590, 963, 2014, 6, 590, 830, 3363, 13, 1331, 2023, 830, 6, 3363, 1095, 830, 2023, 1604, 1206, 1331, 2023, 1992, 6, 590, 3363, 758, 830, 963, 1745, 1657, 963, 1148, 830, 13, 3363, 1331, 830, 1604, 6, 1148, 830, 1206, 6, 2014, 2014, 5135, 1479, 963, 6, 2014, 2014, 5135, 963, 3363, 1468, 1604, 5135, 963, 1095, 830, 2023, 963, 1983, 1604, 1964, 13, 963, 1209, 1604, 1479, 830, 2023, 963, 1983, 1604, 590, 830, 1657, 6, 1479, 830, 2023, 963, 1479, 963, 590, 1148, 1206, 963, 590, 6, 3363, 1095, 590, 963, 6, 963, 1209, 1209, 963, 1148, 830, 590, 1992, 963, 1479, 963, 6, 1983, 6, 4543, 13, 3363, 1331, 830, 1604, 1992, 6, 830, 1148, 2023, 6, 3363, 1095, 1095, 963, 1209, 13, 3363, 13, 830, 963, 2014, 5135, 1657, 1479, 1604, 1964, 13, 1095, 963, 1095, 963, 1095, 1331, 963, 1604, 1209, 830, 2023, 963, 590, 963, 6, 830, 830, 963, 3363, 590, 963, 1983, 1604, 1983, 963, 3363, 830, 590, 1657, 1479, 1604, 503, 6, 503, 2014, 5135, 6, 2014, 2014, 830, 2023, 963, 1983, 1604, 1479, 963, 590, 1604, 2295, 3363, 1604, 1992, 13, 3363, 1331, 830, 2023, 6, 830, 830, 2023, 963, 1479, 963, 6, 1479, 963, 1331, 1206, 5135, 590, 1992, 2023, 1604, 1095, 1604, 830, 2023, 13, 590, 1209, 1604, 1479, 6, 2014, 13, 1964, 13, 3363, 1331, 2023, 963, 1992, 963, 6, 2295, 963, 1479, 1657, 6, 1479, 830, 590, 1604, 1209, 830, 2023, 963, 1983, 1604, 1964, 13, 963, 1479, 963, 1964, 1604, 2014, 1964, 963, 2014, 6, 1479, 1331, 963, 2014, 5135, 6, 1479, 1604, 1206, 3363, 1095, 1206, 590, 13, 3363, 1331, 590, 830, 963, 1479, 963, 1604, 830, 5135, 1657, 13, 1148, 6, 2014, 590, 963, 830, 590, 1148, 963, 3363, 963, 590, 758, 1983, 3363, 1604, 830, 1331, 1604, 13, 3363, 1331, 830, 1604, 590, 1657, 1604, 13, 2014, 830, 2023, 963, 1983, 1604, 1964, 13, 963, 503, 1206, 830, 830, 2023, 13, 590, 1479, 963, 6, 2014, 2014, 5135, 1209, 1604, 2014, 2014, 1604, 1992, 590, 6, 2014, 1604, 3363, 1331, 830, 2023, 963, 2014, 13, 3363, 963, 590, 1604, 1209], [2023, 963, 1479, 963, 590, 590, 963, 1479, 13, 590, 1657, 963, 1479, 2023, 6, 1657, 590, 830, 2023, 963, 1983, 1604, 590, 830, 1479, 963, 1209, 13, 3363, 963, 1095, 1604, 1209, 503, 6, 1148, 2295, 590, 830, 6, 1331, 963, 1209, 13, 2014, 1983, 590, 2023, 963, 1209, 13, 2014, 1983, 13, 590, 503, 1479, 13, 1983, 1983, 13, 3363, 1331, 1992, 13, 830, 2023, 1992, 13, 830, 6, 3363, 1095, 590, 1657, 13, 1479, 13, 830, 1209, 1604, 1479, 830, 2023, 963, 1983, 1604, 590, 830, 1657, 6, 1479, 830, 1657, 1479, 1604, 1964, 13, 1095, 963, 1095, 503, 5135, 830, 2023, 963, 963, 3363, 963, 1479, 1331, 963, 830, 13, 1148, 1148, 2023, 6, 1479, 6, 1148, 830, 963, 1479, 1604, 1209, 1604, 1479, 1983, 6, 3363, 1604, 1983, 1604, 1206, 1479, 830, 963, 3363, 6, 5135, 2014, 830, 2023, 1604, 1206, 1331, 2023, 2023, 13, 590, 1148, 2023, 6, 1479, 6, 1148, 830, 963, 1479, 13, 590, 1148, 2014, 963, 6, 1479, 2014, 5135, 1331, 6, 5135, 6, 3363, 1095, 1148, 963, 1479, 830, 6, 13, 3363, 2014, 5135, 2023, 6, 590, 6, 3363, 6, 830, 830, 1479, 6, 1148, 830, 13, 1604, 3363, 1209, 1604, 1479, 830, 2023, 963, 2014, 963, 6, 1095, 1657, 963, 1479, 1209, 1604, 1479, 1983, 963, 1479, 2014, 503, 963, 1479, 830, 13, 3363, 3363, 963, 5135, 830, 2023, 6, 830, 2023, 963, 6, 590, 590, 13, 590, 830, 590, 830, 2023, 963, 1209, 13, 2014, 1983, 3363, 963, 1964, 963, 1479, 1095, 1992, 963, 2014, 2014, 590, 1604, 3363, 13, 830, 1604, 1479, 1983, 6, 2295, 963, 590, 13, 830, 1983, 1604, 1479, 963, 830, 2023, 6, 3363, 13, 830, 13, 590, 503, 1479, 503, 1479, 2023, 963, 1331, 1479, 13, 830, 830, 5135, 590, 830, 5135, 2014, 963, 1604, 1209, 963, 830, 963, 1479, 6, 830, 963, 590, 830, 2023, 6, 830, 1992, 1604, 1479, 2295, 963, 1095, 590, 1604, 1992, 963, 2014, 2014, 13, 3363, 1206, 2014, 2014, 13, 830, 830, 13, 590, 6, 1331, 6, 13, 3363, 1604, 3363, 1095, 13, 590, 1657, 2014, 6, 5135, 6, 3363, 1095, 1331, 13, 1964, 963, 590, 830, 2023, 963, 1209, 13, 2014, 1983, 6, 590, 963, 3363, 590, 963, 1604, 1209, 1479, 963], [1604, 1479, 963, 6, 2014, 6, 3363, 1095, 590, 1206, 1479, 1479, 963, 6, 2014, 6, 2014, 2014, 13, 3363, 1604, 3363, 963, 1479, 963, 1983, 963, 1983, 503, 963, 1479, 1209, 963, 963, 2014, 13, 3363, 1331, 2014, 13, 2295, 963, 963, 590, 590, 6, 963, 1148, 2295, 1479, 963, 1983, 963, 1983, 503, 963, 1479, 503, 963, 13, 3363, 1331, 963, 590, 590, 6, 2023, 13, 590, 1992, 6, 590, 6, 503, 963, 6, 1206, 830, 13, 1209, 1206, 2014, 1964, 13, 1331, 3363, 963, 830, 830, 963, 1604, 1209, 6, 1479, 963, 2014, 6, 830, 13, 1604, 3363, 590, 2023, 13, 1657, 963, 3363, 1095, 13, 3363, 1331, 963, 590, 1657, 963, 1148, 13, 6, 2014, 2014, 5135, 2014, 13, 2295, 963, 1095, 830, 2023, 963, 1657, 1479, 1604, 830, 963, 590, 830, 963, 1479, 590, 830, 6, 3363, 1331, 963, 3363, 830, 830, 13, 590, 3363, 13, 1148, 963, 830, 1604, 590, 963, 963, 590, 5135, 1983, 503, 1604, 2014, 13, 590, 1983, 13, 3363, 6, 1983, 1604, 1964, 13, 963, 1992, 13, 830, 2023, 1604, 1206, 830, 503, 963, 13, 3363, 1331, 590, 1983, 6, 1148, 2295, 963, 1095, 1604, 1964, 963, 1479, 830, 2023, 963, 2023, 963, 6, 1095, 1992, 13, 830, 2023, 13, 830, 1209, 5135, 1604, 1206, 1331, 963, 830, 830, 2023, 963, 1148, 2023, 6, 3363, 1148, 963, 830, 1604, 590, 963, 963, 830, 2023, 13, 590, 830, 6, 2295, 963, 13, 830, 830, 13, 590, 1992, 963, 2014, 2014, 1992, 1604, 1479, 830, 2023, 830, 2023, 963, 342, 2241, 1983, 13, 3363, 1206, 830, 963, 590], [2023, 13, 590, 13, 590, 6, 1657, 6, 2014, 963, 13, 1983, 13, 830, 6, 830, 13, 1604, 3363, 1604, 1209, 758, 1209, 1209, 13, 1148, 963, 1479, 6, 3363, 1095, 6, 963, 3363, 830, 2014, 963, 1983, 6, 3363, 758, 2023, 963, 1479, 963, 13, 590, 1148, 2023, 963, 1983, 13, 590, 830, 1479, 5135, 503, 963, 830, 1992, 963, 963, 3363, 1206, 830, 1148, 2023, 963, 1479, 6, 3363, 1095, 830, 2023, 963, 1206, 3363, 2295, 3363, 1604, 1992, 3363, 1992, 1604, 1983, 6, 3363, 1992, 2023, 1604, 1657, 2014, 6, 5135, 590, 2023, 13, 590, 2014, 1604, 1964, 963, 13, 3363, 830, 963, 1479, 963, 590, 830, 2023, 963, 1095, 13, 6, 2014, 1604, 1331, 13, 590, 1992, 1604, 1604, 1095, 963, 3363, 830, 2023, 963, 590, 13, 830, 1206, 6, 830, 13, 1604, 3363, 590, 2023, 6, 1148, 2295, 3363, 963, 5135, 963, 1095, 830, 758, 590, 830, 1604, 1604, 2014, 1604, 3363, 1331, 6, 3363, 1095, 830, 2023, 963, 1148, 2014, 13, 1983, 6, 1745, 13, 590, 6, 3363, 830, 13, 1148, 2014, 13, 1983, 6, 1148, 830, 13, 1148, 2014, 1604, 1964, 963, 830, 2023, 963, 13, 830, 590, 1983, 963, 3363, 6, 3363, 1095, 1992, 1604, 1983, 963, 3363, 6, 1479, 963, 1209, 963, 6, 1479, 2014, 963, 590, 590, 6, 3363, 1095, 830, 1604, 1206, 1331, 2023, 2023, 963, 6, 1148, 830, 13, 1604, 3363, 590, 1148, 963, 3363, 963, 590, 6, 1479, 963, 6, 1992, 963, 590, 1604, 1983, 963, 503, 1206, 830, 830, 2023, 13, 590, 1983, 1604, 1964, 13, 963, 1095, 1604, 963, 590, 3363, 758, 830, 1095, 1604, 1983, 1206, 1148, 2023, 1209, 1604, 1479, 1479, 963, 1148, 1479, 1206, 13, 830, 13, 3363, 1331, 1209, 963, 6, 1479, 2023, 963, 590, 1148, 1479, 13, 1657, 830, 13, 590, 1209, 1604, 1479, 1983, 1206, 2014, 6, 13, 1148, 503, 1206, 830, 1148, 1604, 3363, 1209, 1206, 590, 13, 3363, 1331, 1206, 830, 1148, 2023, 963, 1479, 758, 590, 1148, 2023, 6, 1479, 6, 1148, 830, 963, 1479, 13, 590, 830, 1479, 5135, 13, 3363, 1331, 830, 1604, 1479, 963, 1095, 963, 963, 1983, 2023, 13, 1983, 590, 963, 2014, 1209, 1209, 1604, 1479, 6, 3363, 6, 1148, 1148, 13, 1095, 963, 3363, 830, 830, 2023, 6, 830, 1992, 6, 590], [1992, 6, 590, 6, 830, 1479, 963, 590, 830, 2014, 963, 1983, 6, 3363, 13, 6, 13, 3363, 1604, 1479, 1604, 3363, 830, 1604, 6, 590, 6, 300, 2241, 5135, 963, 6, 1479, 1604, 2014, 1095, 6, 3363, 1095, 830, 2023, 963, 963, 1964, 963, 3363, 830, 590, 6, 1992, 830, 2023, 963, 3363, 1992, 6, 590, 1657, 1479, 963, 830, 830, 5135, 1095, 13, 1209, 1209, 963, 1479, 963, 3363, 830, 1209, 1479, 1604, 1983, 1992, 2023, 6, 830, 590, 6, 1992, 1604, 3363, 830, 2023, 963, 1479, 963, 590, 830, 2014, 963, 1983, 6, 3363, 13, 6, 1604, 2014, 2014, 963, 1148, 830, 13, 1604, 3363, 1468, 1206, 590, 830, 1992, 6, 830, 1148, 2023, 963, 1095, 1095, 1604, 3363, 758, 830, 1206, 3363, 1095, 963, 1479, 590, 830, 6, 3363, 1095, 2023, 1604, 1992, 830, 2023, 963, 1992, 1992, 1095, 1604, 963, 590, 3363, 758, 830, 2023, 6, 1964, 963, 830, 2023, 963, 1479, 13, 1331, 2023, 830, 590, 830, 1604, 590, 1604, 1983, 963, 1604, 1209, 830, 2023, 963, 1604, 2014, 1095, 1983, 1206, 590, 13, 1148, 590, 13, 3363, 1148, 963, 1983, 1604, 590, 830, 1604, 1209, 830, 2023, 1604, 590, 963, 590, 1604, 3363, 1331, 590, 1992, 963, 1479, 963, 1148, 1479, 963, 6, 830, 963, 1095, 503, 5135, 830, 2023, 963, 830, 2023, 963, 5135, 590, 2023, 1604, 1206, 2014, 1095, 3363, 758, 830, 2023, 6, 1964, 963, 830, 1604, 1992, 1604, 1479, 1479, 5135, 6, 503, 1604, 1206, 830, 830, 2023, 963, 2014, 13, 1148, 963, 3363, 590, 13, 3363, 1331, 6, 3363, 1095, 1479, 1604, 5135, 6, 2014, 830, 5135, 1209, 963, 963, 590, 830, 2023, 6, 830, 1657, 1479, 963, 1964, 963, 3363, 830, 590, 2023, 1604, 1992, 590, 2014, 13, 2295, 963, 1209, 1479, 1604, 1983, 1479, 963, 2014, 963, 6, 590, 13, 3363, 1331, 590, 963, 6, 590, 1604, 3363, 590, 963, 830, 590, 830, 590, 1657, 1479, 963, 830, 830, 5135, 590, 830, 1206, 1657, 13, 1095, 830, 1604, 1992, 2023, 13, 3363, 963, 6, 503, 1604, 1206, 830, 503, 1206, 830, 1209, 1604, 1479, 1983, 963, 2023, 963, 6, 1479, 13, 3363, 1331, 963, 1983, 1604, 2014, 13, 830, 13, 1604, 3363, 1148, 1604, 1983, 963, 1604, 1206, 830, 830, 1604, 830, 2023, 963, 13], [1604, 1992, 2023, 6, 830, 6, 1983, 1604, 1964, 13, 963, 13, 1209, 5135, 1604, 1206, 1992, 6, 3363, 830, 830, 1604, 503, 2014, 1604, 1992, 5135, 1604, 1206, 1479, 503, 1206, 1095, 1331, 963, 830, 1604, 3363, 830, 2023, 963, 830, 13, 830, 2014, 963, 6, 3363, 1095, 2023, 6, 1964, 963, 13, 830, 2014, 1604, 1604, 2295, 1479, 963, 6, 2014, 503, 6, 1095, 6, 590, 2295, 830, 2023, 963, 1331, 1206, 5135, 590, 830, 2023, 6, 830, 1983, 6, 1095, 963, 830, 2023, 13, 590, 1983, 1604, 1964, 13, 963, 1604, 3363, 2023, 1604, 1992, 830, 1604, 1095, 1604, 830, 2023, 6, 830, 2023, 963, 5135, 1148, 1604, 1206, 2014, 1095, 2023, 6, 1964, 963, 590, 1657, 963, 3363, 830, 830, 2023, 963, 1983, 1604, 3363, 963, 5135, 1604, 3363, 6, 1331, 1604, 1604, 1095, 1479, 963, 1992, 1479, 13, 830, 963, 1604, 1479, 590, 1604, 1983, 963, 830, 2023, 13, 3363, 1331, 963, 2014, 590, 963, 1479, 830, 2023, 963, 5135, 1148, 1604, 1206, 2014, 1095, 2023, 6, 1964, 963, 590, 1657, 963, 3363, 830, 13, 830, 1604, 3363, 503, 963, 963, 1479, 1992, 2023, 963, 3363, 830, 2023, 963, 5135, 1983, 6, 1095, 963, 830, 2023, 13, 590, 1983, 1604, 1964, 13, 963, 6, 830, 2014, 963, 6, 590, 830, 13, 830, 1992, 1604, 1206, 2014, 1095, 2023, 6, 1964, 963, 1148, 1604, 1983, 963, 1604, 1206, 830, 503, 963, 830, 830, 963, 1479]]\n"
     ]
    }
   ],
   "source": [
    "print(X)"
   ]
  },
  {
   "cell_type": "code",
   "execution_count": 94,
   "metadata": {
    "collapsed": true,
    "scrolled": true
   },
   "outputs": [],
   "source": [
    "max_review_length = 500\n",
    "X_pad = sequence.pad_sequences(X, maxlen=max_review_length) # se usa para hacer que todos los reviews tengan el mismo numero de palabras"
   ]
  },
  {
   "cell_type": "code",
   "execution_count": 95,
   "metadata": {},
   "outputs": [
    {
     "data": {
      "text/plain": [
       "(6, 500)"
      ]
     },
     "execution_count": 95,
     "metadata": {},
     "output_type": "execute_result"
    }
   ],
   "source": [
    "X_pad.shape"
   ]
  },
  {
   "cell_type": "code",
   "execution_count": 96,
   "metadata": {
    "collapsed": true
   },
   "outputs": [],
   "source": [
    "#{k:vocab[k] for k in list(vocab.keys())[:10]}"
   ]
  },
  {
   "cell_type": "code",
   "execution_count": 97,
   "metadata": {
    "collapsed": true
   },
   "outputs": [],
   "source": [
    "X_pad[X_pad>5000]=2"
   ]
  },
  {
   "cell_type": "code",
   "execution_count": 98,
   "metadata": {
    "collapsed": true
   },
   "outputs": [],
   "source": [
    "prediccion = model.predict(X_pad)"
   ]
  },
  {
   "cell_type": "code",
   "execution_count": 99,
   "metadata": {},
   "outputs": [
    {
     "data": {
      "text/plain": [
       "array([[0.7987933 ],\n",
       "       [0.46605015],\n",
       "       [0.02032039],\n",
       "       [0.01812251],\n",
       "       [0.12264552],\n",
       "       [0.24968176]], dtype=float32)"
      ]
     },
     "execution_count": 99,
     "metadata": {},
     "output_type": "execute_result"
    }
   ],
   "source": [
    "prediccion"
   ]
  },
  {
   "cell_type": "code",
   "execution_count": 101,
   "metadata": {},
   "outputs": [
    {
     "data": {
      "text/plain": [
       "[\"I was fortunate enough to see this movie on pre-release last night and, though I wasn't expecting to, actually really enjoyed the movie for the most part. The rescues and sea effects were amazing to watch and definitely provided edge of the seat tense moments, probably all the more so knowing that there are guys who do this for a living. The weaker parts of the movie revolve largely around using stereotypical set scenes. I'm not going to spoil the movie but this really follows along the lines of An Officer and a Gentleman and those moments give it a little bit of a cheesy aftertaste.<br /><br />Like I said over all this movie is pretty good and worth checking out as long as you can get past the clichés.\",\n",
       " '\"The Dresser\" is perhaps the most refined of backstage films. The film is brimming with wit and spirit, for the most part provided by the \"energetic\" character of Norman (Tom Courtenay). Although his character is clearly gay, and certainly has an attraction for the lead performer (Albert Finney) that he assists, the film never dwells on it or makes it more than it is.<br /><br />The gritty style of Peter Yates that worked so well in \"Bullitt\" is again on display, and gives the film a sense of realism and coherence. This is much appreciated in a story that could so easily have become tedious. In the end, \"The Dresser\" will bore many people silly, but it will truly be a delight to those who love British cinema.<br /><br />7.7 out of 10',\n",
       " 'So real and surreal, all in one. I remember feeling like Tessa. Heck, I remember being Tessa. This was a beautiful vignette of a relationship ending. I especially liked the protesters tangent. It is nice to see symbolism in a movie without being smacked over the head with it. If you get the chance to see this, take it. It is well worth the 30 minutes.',\n",
       " \"This is a pale imitation of 'Officer and a Gentleman.' There is NO chemistry between Kutcher and the unknown woman who plays his love interest. The dialog is wooden, the situations hackneyed. It's too long and the climax is anti-climactic(!). I love the USCG, its men and women are fearless and tough. The action scenes are awesome, but this movie doesn't do much for recruiting, I fear. The script is formulaic, but confusing. Kutcher's character is trying to redeem himself for an accident that wasn't his fault? Costner's is raging against the dying of the light, but why? His 'conflict' with his wife is about as deep as a mud puddle. I saw this sneak preview for free and certainly felt I got my money's worth.\",\n",
       " \"I was at Wrestlemania VI in Toronto as a 10 year old, and the event I saw then was pretty different from what I saw on the Wrestlemania Collection DVD I just watched. I don't understand how the wwE doesn't have the rights to some of the old music, since most of those songs were created by the WWF they shouldn't have to worry about the licensing and royalty fees that prevent shows like SNL from releasing season sets. Its pretty stupid to whine about, but for me hearing Demolition come out to their theme music at a Wrestlemania in person was a memory that I never forgot, and it didn't exist on this DVD. What is the point of them even owning the rights to this huge library of video if they have to edit it so drastically to use it?\",\n",
       " 'Wow! What a movie if you want to blow your budget on the title and have it look real bad ask the guys that made this movie on how to do that. They could have spent the money on a good rewrite or something else. Or they could have spent it on beer when they made this movie at least it would have come out better.']"
      ]
     },
     "execution_count": 101,
     "metadata": {},
     "output_type": "execute_result"
    }
   ],
   "source": [
    "reviews"
   ]
  },
  {
   "cell_type": "code",
   "execution_count": 102,
   "metadata": {
    "collapsed": true
   },
   "outputs": [],
   "source": [
    "#observamos que los reviews son positivo, positivo, positivo, negativo, negativo y negativo\n",
    "# creamos el vector de reviews con positivo= 1 y negativo=0\n",
    "y_real=[1,1,1,0,0,0]"
   ]
  },
  {
   "cell_type": "code",
   "execution_count": 103,
   "metadata": {},
   "outputs": [
    {
     "data": {
      "text/plain": [
       "[1, 1, 1, 0, 0, 0]"
      ]
     },
     "execution_count": 103,
     "metadata": {},
     "output_type": "execute_result"
    }
   ],
   "source": [
    "y_real"
   ]
  },
  {
   "cell_type": "code",
   "execution_count": 104,
   "metadata": {},
   "outputs": [
    {
     "name": "stdout",
     "output_type": "stream",
     "text": [
      "\r",
      "6/6 [==============================] - 0s 7ms/step\n"
     ]
    }
   ],
   "source": [
    "score=model.evaluate(X_pad,y_real)"
   ]
  },
  {
   "cell_type": "code",
   "execution_count": 105,
   "metadata": {},
   "outputs": [
    {
     "data": {
      "text/plain": [
       "[0.8867726922035217, 0.6666666865348816]"
      ]
     },
     "execution_count": 105,
     "metadata": {},
     "output_type": "execute_result"
    }
   ],
   "source": [
    "score"
   ]
  },
  {
   "cell_type": "code",
   "execution_count": 108,
   "metadata": {},
   "outputs": [
    {
     "name": "stdout",
     "output_type": "stream",
     "text": [
      "El modelo esta prediciendo correctamente el 66.6% de las veces. Seguramente obtendremos mejores predicciones si ajustamos los parametros del modelo\n"
     ]
    }
   ],
   "source": [
    "print('El modelo esta prediciendo correctamente el 66.6% de las veces. Seguramente obtendremos mejores predicciones si ajustamos los parametros del modelo')"
   ]
  },
  {
   "cell_type": "code",
   "execution_count": 109,
   "metadata": {
    "collapsed": true
   },
   "outputs": [],
   "source": [
    "# %whos <- identifica las variables que tengo creadas"
   ]
  },
  {
   "cell_type": "code",
   "execution_count": null,
   "metadata": {
    "collapsed": true
   },
   "outputs": [],
   "source": [
    "# %reset <- para borrar todas las variables"
   ]
  }
 ],
 "metadata": {
  "kernelspec": {
   "display_name": "Python 3",
   "language": "python",
   "name": "python3"
  },
  "language_info": {
   "codemirror_mode": {
    "name": "ipython",
    "version": 3
   },
   "file_extension": ".py",
   "mimetype": "text/x-python",
   "name": "python",
   "nbconvert_exporter": "python",
   "pygments_lexer": "ipython3",
   "version": "3.6.1"
  }
 },
 "nbformat": 4,
 "nbformat_minor": 2
}
